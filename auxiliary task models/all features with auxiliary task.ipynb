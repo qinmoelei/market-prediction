{
 "cells": [
  {
   "cell_type": "code",
   "execution_count": 1,
   "metadata": {},
   "outputs": [],
   "source": [
    "import numpy as np\n",
    "import pandas as pd\n",
    "import torch\n",
    "from torch.utils.data import DataLoader,Dataset\n",
    "from torch import nn\n",
    "from tqdm import tqdm"
   ]
  },
  {
   "cell_type": "code",
   "execution_count": 2,
   "metadata": {},
   "outputs": [],
   "source": [
    "df = pd.read_csv('C:\\\\Users\\\\qml\\\\Desktop\\\\学习\\\\reinforcement learning for Fintech\\\\Ubiquant Market Prediction\\\\train.csv')\n"
   ]
  },
  {
   "cell_type": "code",
   "execution_count": 3,
   "metadata": {},
   "outputs": [],
   "source": [
    "y = df[\"target\"]\n",
    "id=df[\"investment_id\"]\n",
    "feature = df.drop(['row_id', 'time_id', 'target',\"investment_id\"], axis=1)\n"
   ]
  },
  {
   "cell_type": "code",
   "execution_count": 4,
   "metadata": {},
   "outputs": [],
   "source": [
    "device = 'cuda' if torch.cuda.is_available() else 'cpu'\n",
    "feature=torch.from_numpy(feature.values)\n",
    "id=torch.from_numpy(id.values)\n",
    "y=torch.from_numpy(y.values)\n",
    "class FinData(Dataset):\n",
    "    def __init__(self,feature,id,y):\n",
    "        self.feature = feature.squeeze().to(device)\n",
    "        self.y = y.squeeze().to(device)\n",
    "        self.id = id.squeeze().to(torch.int64).to(device)\n",
    "        self.len = len(y)\n",
    "\n",
    "    def __getitem__(self,idx):\n",
    "        return self.id[idx],self.feature[idx],self.y[idx]\n",
    "  \n",
    "    def __len__(self):\n",
    "        return self.len\n",
    "Dataset_train=FinData(feature=feature,id=id,y=y)\n",
    "\n",
    "DataLoader=DataLoader(Dataset_train,batch_size=4096,shuffle=True)"
   ]
  },
  {
   "cell_type": "code",
   "execution_count": 5,
   "metadata": {},
   "outputs": [],
   "source": [
    "from torch import nn\n",
    "class NeuralNetwork(nn.Module):\n",
    "    def __init__(self):\n",
    "        super(NeuralNetwork, self).__init__()\n",
    "        self.embedding=nn.Embedding(4000,32)\n",
    "        self.linear1=nn.Linear(32,64)\n",
    "        self.linear2=nn.Linear(64,64)\n",
    "        self.linear3=nn.Linear(300,256)\n",
    "        self.linear4=nn.Linear(256,256)\n",
    "        self.linear5=nn.Linear(320,512)\n",
    "        self.linear6=nn.Linear(512,128)\n",
    "        self.linear7=nn.Linear(128,32)\n",
    "        self.linear8=nn.Linear(32,1)\n",
    "        self.linear9=nn.Linear(32,2)\n",
    "        self.dropout=nn.Dropout(p=0.5)\n",
    "        self.linear10=nn.Linear(32,64)\n",
    "        self.linear11=nn.Linear(320,64)\n",
    "        self.linear12=nn.Linear(64,2)\n",
    "        \n",
    "      \n",
    "\n",
    "    def forward(self, feature, id):\n",
    "        id1=self.embedding(id).squeeze()\n",
    "        id1=self.linear1(id1).squeeze()\n",
    "        id1=id1*torch.sigmoid(id1)\n",
    "        id1=self.linear2(id1).squeeze()\n",
    "        id1=id1*torch.sigmoid(id1)\n",
    "        id1=self.dropout(id1)\n",
    "        id1=self.linear2(id1).squeeze()\n",
    "        id1=id1*torch.sigmoid(id1)\n",
    "\n",
    "\n",
    "        feature1=self.linear3(feature).squeeze()\n",
    "        feature1=feature1*torch.sigmoid(feature1)\n",
    "        feature1=self.linear4(feature1).squeeze()\n",
    "        feature1=feature1*torch.sigmoid(feature1)\n",
    "        feature1=self.linear4(feature1).squeeze()\n",
    "        feature1=feature1*torch.sigmoid(feature1)\n",
    "\n",
    "        x=torch.cat((id1,feature1),1).to(\"cuda\")\n",
    "        x1=self.linear5(x).squeeze()\n",
    "        x1=x1*torch.sigmoid(x1)\n",
    "        x1=self.linear6(x1).squeeze()\n",
    "        x1=x1*torch.sigmoid(x1)\n",
    "\n",
    "        x1=self.linear7(x1).squeeze()\n",
    "        x1=x1*torch.sigmoid(x1)\n",
    "\n",
    "        x1=self.linear8(x1).squeeze()\n",
    "        x1=20*torch.sigmoid(x1)\n",
    "\n",
    "\n",
    "        id2=self.embedding(id).squeeze()\n",
    "        id2=self.linear10(id2).squeeze()\n",
    "        id2=self.dropout(id2)\n",
    "\n",
    "        feature2=self.linear3(feature).squeeze()\n",
    "        feature2=self.dropout(feature2)\n",
    "\n",
    "\n",
    "        x2=self.linear11(x).squeeze()\n",
    "        x2=self.linear12(x2)\n",
    "        x2=torch.sigmoid(x2)\n",
    "\n",
    " \n",
    "\n",
    "\n",
    "\n",
    "\n",
    "\n",
    "\n",
    "\n",
    "\n",
    " \n",
    "        return x1,x2\n",
    "        #here is x1 is the regression and x2 is the +/- sign\n"
   ]
  },
  {
   "cell_type": "code",
   "execution_count": 6,
   "metadata": {},
   "outputs": [],
   "source": [
    "model = NeuralNetwork().to(device)\n",
    "model=model.double()"
   ]
  },
  {
   "cell_type": "code",
   "execution_count": 7,
   "metadata": {},
   "outputs": [],
   "source": [
    "learning_rate = 1e-3\n",
    "optimizer = torch.optim.Adam(model.parameters(), lr=learning_rate,weight_decay=1e-5)\n",
    "loss_fn1=torch.nn.MSELoss()\n",
    "loss_fn2=torch.nn.CrossEntropyLoss()"
   ]
  },
  {
   "cell_type": "code",
   "execution_count": 8,
   "metadata": {},
   "outputs": [],
   "source": [
    "def train_1(dataloader, model, optimizer):\n",
    "    for  id,feature,y in tqdm(dataloader):\n",
    "        # Compute prediction and loss\n",
    "        x1,label = model(feature,id)\n",
    "        x1=x1.to(\"cuda\")\n",
    "        label=label.to(\"cuda\")\n",
    "        #loss1 = loss_fn1(x1,torch.abs(y))\n",
    "        loss1 = -torch.corrcoef(torch.stack((x1,torch.abs(y))))[0,1]\n",
    "        loss2 = loss_fn2(label,(0.5*(y/torch.abs(y)+torch.tensor([1]).to(device))).long().to(\"cuda\"))\n",
    "        loss = loss1+0.1*loss2\n",
    "        # Backpropagation\n",
    "        optimizer.zero_grad()\n",
    "        loss.backward()\n",
    "        optimizer.step()\n"
   ]
  },
  {
   "cell_type": "code",
   "execution_count": 9,
   "metadata": {},
   "outputs": [],
   "source": [
    "def test(dataloader, model):\n",
    "    scores=[]\n",
    "    for id, feature,y in tqdm(dataloader):\n",
    "        cat=[]\n",
    "        with torch.no_grad():\n",
    "            x1,x2=model(feature,id)\n",
    "            for cats in x2:\n",
    "                if cats[0]>cats[1]:\n",
    "                    cat.append(-1)\n",
    "                else:\n",
    "                    cat.append(1)\n",
    "        cat=torch.tensor(cat).to(\"cuda\")\n",
    "        result=cat*x1\n",
    "        score=torch.corrcoef(torch.stack((result,y)))[0,1].item()\n",
    "        scores.append(score)\n",
    "    score_tensor=torch.tensor(scores)\n",
    "    mean=torch.mean(score_tensor)\n",
    "    return mean\n",
    "            \n",
    "\n"
   ]
  },
  {
   "cell_type": "code",
   "execution_count": 10,
   "metadata": {},
   "outputs": [
    {
     "name": "stdout",
     "output_type": "stream",
     "text": [
      "epoch1/10\n"
     ]
    },
    {
     "name": "stderr",
     "output_type": "stream",
     "text": [
      "100%|██████████| 767/767 [01:20<00:00,  9.51it/s]\n"
     ]
    },
    {
     "name": "stdout",
     "output_type": "stream",
     "text": [
      "epoch2/10\n"
     ]
    },
    {
     "name": "stderr",
     "output_type": "stream",
     "text": [
      "100%|██████████| 767/767 [01:19<00:00,  9.68it/s]\n"
     ]
    },
    {
     "name": "stdout",
     "output_type": "stream",
     "text": [
      "epoch3/10\n"
     ]
    },
    {
     "name": "stderr",
     "output_type": "stream",
     "text": [
      "100%|██████████| 767/767 [01:18<00:00,  9.73it/s]\n"
     ]
    },
    {
     "name": "stdout",
     "output_type": "stream",
     "text": [
      "epoch4/10\n"
     ]
    },
    {
     "name": "stderr",
     "output_type": "stream",
     "text": [
      "100%|██████████| 767/767 [01:19<00:00,  9.68it/s]\n"
     ]
    },
    {
     "name": "stdout",
     "output_type": "stream",
     "text": [
      "epoch5/10\n"
     ]
    },
    {
     "name": "stderr",
     "output_type": "stream",
     "text": [
      "100%|██████████| 767/767 [01:19<00:00,  9.70it/s]\n"
     ]
    }
   ],
   "source": [
    "for i in range(5):\n",
    "    print(\"epoch{}/{}\".format(i+1,10))\n",
    "    train(DataLoader,model,optimizer)\n"
   ]
  },
  {
   "cell_type": "code",
   "execution_count": 11,
   "metadata": {},
   "outputs": [
    {
     "name": "stderr",
     "output_type": "stream",
     "text": [
      "100%|██████████| 767/767 [03:14<00:00,  3.95it/s]\n"
     ]
    },
    {
     "data": {
      "text/plain": [
       "tensor(0.0835)"
      ]
     },
     "execution_count": 11,
     "metadata": {},
     "output_type": "execute_result"
    }
   ],
   "source": [
    "test(DataLoader,model)"
   ]
  },
  {
   "cell_type": "code",
   "execution_count": 12,
   "metadata": {},
   "outputs": [],
   "source": [
    "torch.save(model,\"all feature with auxliary.pth\")"
   ]
  },
  {
   "cell_type": "code",
   "execution_count": null,
   "metadata": {},
   "outputs": [],
   "source": []
  },
  {
   "cell_type": "code",
   "execution_count": null,
   "metadata": {},
   "outputs": [],
   "source": []
  }
 ],
 "metadata": {
  "interpreter": {
   "hash": "8d54f9552fa829e297b1fedb11353f4eeb32c8a885e3418c0be5f50c074ccfc7"
  },
  "kernelspec": {
   "display_name": "Python 3.7.11 ('venv': venv)",
   "language": "python",
   "name": "python3"
  },
  "language_info": {
   "codemirror_mode": {
    "name": "ipython",
    "version": 3
   },
   "file_extension": ".py",
   "mimetype": "text/x-python",
   "name": "python",
   "nbconvert_exporter": "python",
   "pygments_lexer": "ipython3",
   "version": "3.7.11"
  },
  "orig_nbformat": 4
 },
 "nbformat": 4,
 "nbformat_minor": 2
}
