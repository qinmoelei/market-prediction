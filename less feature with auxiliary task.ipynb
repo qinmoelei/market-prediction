{
 "cells": [
  {
   "cell_type": "code",
   "execution_count": 1,
   "metadata": {},
   "outputs": [],
   "source": [
    "import numpy as np\n",
    "import pandas as pd\n",
    "import torch\n",
    "from torch.utils.data import DataLoader,Dataset\n",
    "from torch import nn\n",
    "from tqdm import tqdm"
   ]
  },
  {
   "cell_type": "code",
   "execution_count": 2,
   "metadata": {},
   "outputs": [],
   "source": [
    "df = pd.read_csv('train.csv')\n",
    "featureimportance=pd.read_csv(\"featureimportance\")\n",
    "featureimportance= pd.Series(featureimportance['target'].values, index=featureimportance['Unnamed: 0'])"
   ]
  },
  {
   "cell_type": "code",
   "execution_count": 3,
   "metadata": {},
   "outputs": [],
   "source": [
    "# featuretarget= df.drop(['row_id', 'time_id', \"investment_id\"], axis=1)\n",
    "# corr_matrix=featuretarget.corr()\n",
    "# a=corr_matrix[\"target\"].sort_values()\n",
    "# b=abs(a)\n",
    "# c=b.sort_values()"
   ]
  },
  {
   "cell_type": "code",
   "execution_count": 4,
   "metadata": {},
   "outputs": [],
   "source": [
    "featurename1=list(featureimportance.index[250:300])\n",
    "featurename2=list(featureimportance.index[200:250])\n",
    "featurename3=list(featureimportance.index[150:200])\n",
    "featurename4=list(featureimportance.index[100:150])"
   ]
  },
  {
   "cell_type": "code",
   "execution_count": 5,
   "metadata": {},
   "outputs": [],
   "source": [
    "feature1 = df[featurename1]\n",
    "feature2 = df[featurename2]\n",
    "feature3 = df[featurename3]\n",
    "feature4 = df[featurename4]\n",
    "\n",
    "y = df[\"target\"]\n",
    "id=df[\"investment_id\"]"
   ]
  },
  {
   "cell_type": "code",
   "execution_count": 6,
   "metadata": {},
   "outputs": [],
   "source": [
    "del df"
   ]
  },
  {
   "cell_type": "code",
   "execution_count": 7,
   "metadata": {},
   "outputs": [],
   "source": [
    "import torch\n",
    "from torch.utils.data import DataLoader,Dataset\n",
    "from torch import nn"
   ]
  },
  {
   "cell_type": "code",
   "execution_count": 8,
   "metadata": {},
   "outputs": [],
   "source": [
    "device = 'cuda' if torch.cuda.is_available() else 'cpu'\n",
    "feature1=torch.from_numpy(feature1.values)\n",
    "feature2=torch.from_numpy(feature2.values)\n",
    "feature3=torch.from_numpy(feature3.values)\n",
    "id=torch.from_numpy(id.values)\n",
    "y=torch.from_numpy(y.values)\n"
   ]
  },
  {
   "cell_type": "code",
   "execution_count": 9,
   "metadata": {},
   "outputs": [],
   "source": [
    "device = 'cuda' if torch.cuda.is_available() else 'cpu'\n",
    "\n",
    "class FinData(Dataset):\n",
    "    def __init__(self,feature,id,y):\n",
    "        self.feature = feature.squeeze().to(device)\n",
    "        self.y = y.squeeze().to(device)\n",
    "        self.id = id.squeeze().to(torch.int64).to(device)\n",
    "        self.len = len(y)\n",
    "\n",
    "    def __getitem__(self,idx):\n",
    "        return self.id[idx],self.feature[idx],self.y[idx]\n",
    "  \n",
    "    def __len__(self):\n",
    "        return self.len\n",
    "Dataset_1=FinData(feature=feature1,id=id,y=y)\n",
    "Dataset_2=FinData(feature=feature2,id=id,y=y)\n",
    "Dataset_3=FinData(feature=feature3,id=id,y=y)\n",
    "\n",
    "DataLoader1=DataLoader(Dataset_1,batch_size=512,shuffle=True)\n",
    "DataLoader2=DataLoader(Dataset_2,batch_size=512,shuffle=True)\n",
    "DataLoader3=DataLoader(Dataset_3,batch_size=512,shuffle=True)"
   ]
  },
  {
   "cell_type": "code",
   "execution_count": 10,
   "metadata": {},
   "outputs": [],
   "source": [
    "class NeuralNetwork(nn.Module):\n",
    "    def __init__(self):\n",
    "        super(NeuralNetwork, self).__init__()\n",
    "        self.embedding=nn.Embedding(4000,512)\n",
    "        self.linear1=nn.Linear(512,32)\n",
    "\n",
    "        self.linear3=nn.Linear(50,128)\n",
    "        self.linear4=nn.Linear(128,64)\n",
    "\n",
    "        self.linear5=nn.Linear(96,64)\n",
    "        self.linear8=nn.Linear(64,1)\n",
    "\n",
    "        self.linear2=nn.Linear(96,2)\n",
    "\n",
    "\n",
    "        self.act2= nn.Softmax(dim=1)\n",
    "\n",
    "        \n",
    "\n",
    "        self.dropout=nn.Dropout(p=0.5)\n",
    "\n",
    "    def forward(self, feature, id):\n",
    "        #id feature construction\n",
    "        id=self.embedding(id).squeeze()\n",
    "        id=self.dropout(id)\n",
    "        id=self.linear1(id).squeeze()\n",
    "        id=id*torch.sigmoid(id)\n",
    "    \n",
    "        \n",
    "\n",
    "        #other feature construction\n",
    "        feature=self.linear3(feature).squeeze()\n",
    "        feature=feature*torch.sigmoid(feature)\n",
    "        feature=self.linear4(feature).squeeze()\n",
    "        feature=feature*torch.sigmoid(feature)\n",
    "        feature=self.dropout(feature)\n",
    "        \n",
    "        #combine them all together and do some the regresson and clasification at the same time\n",
    "        x=torch.cat((id,feature),1)\n",
    "\n",
    "        #the regression\n",
    "        x1=self.linear5(x).squeeze()\n",
    "        x1=x1*torch.sigmoid(x1)\n",
    "        x1=self.linear8(x1).squeeze()\n",
    "        x1=20*torch.sigmoid(x1)\n",
    "        #the classification \n",
    "        x2=self.linear2(x).squeeze()\n",
    "        \n",
    "        \n",
    "  \n",
    "\n",
    "        return x1,x2\n"
   ]
  },
  {
   "cell_type": "code",
   "execution_count": 11,
   "metadata": {},
   "outputs": [],
   "source": [
    "model1_1 = NeuralNetwork().to(device)\n",
    "model1_1=model1_1.double()\n",
    "model1_2 = NeuralNetwork().to(device)\n",
    "model1_2=model1_2.double()\n",
    "\n",
    "model2_1 = NeuralNetwork().to(device)\n",
    "model2_1=model2_1.double()\n",
    "model2_2 = NeuralNetwork().to(device)\n",
    "model2_2=model2_2.double()\n",
    "\n",
    "\n",
    "model3_1 = NeuralNetwork().to(device)\n",
    "model3_1=model3_1.double()\n",
    "model3_2 = NeuralNetwork().to(device)\n",
    "model3_2=model3_2.double()"
   ]
  },
  {
   "cell_type": "code",
   "execution_count": 12,
   "metadata": {},
   "outputs": [],
   "source": [
    "learning_rate = 1e-3\n",
    "optimizer1_1 = torch.optim.Adam(model1_1.parameters(), lr=learning_rate,weight_decay=1e-5)\n",
    "optimizer1_2 = torch.optim.Adam(model1_2.parameters(), lr=learning_rate,weight_decay=1e-5)\n",
    "optimizer2_1 = torch.optim.Adam(model2_1.parameters(), lr=learning_rate,weight_decay=1e-5)\n",
    "optimizer2_2 = torch.optim.Adam(model2_2.parameters(), lr=learning_rate,weight_decay=1e-5)\n",
    "optimizer3_1 = torch.optim.Adam(model3_1.parameters(), lr=learning_rate,weight_decay=1e-5)\n",
    "optimizer3_2 = torch.optim.Adam(model3_2.parameters(), lr=learning_rate,weight_decay=1e-5)\n",
    "loss_fn1=torch.nn.MSELoss()\n",
    "loss_fn2=torch.nn.CrossEntropyLoss()"
   ]
  },
  {
   "cell_type": "code",
   "execution_count": 13,
   "metadata": {},
   "outputs": [],
   "source": [
    "def train_1(dataloader, model, optimizer):\n",
    "    for  id,feature,y in tqdm(dataloader):\n",
    "        # Compute prediction and loss\n",
    "        x1,label = model(feature,id)\n",
    "        x1=x1.to(\"cuda\")\n",
    "        label=label.to(\"cuda\")\n",
    "        loss1 = loss_fn1(x1,torch.abs(y))\n",
    "        loss2 = loss_fn2(label,(0.5*(y/torch.abs(y)+torch.tensor([1]).to(device))).long().to(\"cuda\"))\n",
    "        loss = loss1+0.1*loss2\n",
    "        # Backpropagation\n",
    "        optimizer.zero_grad()\n",
    "        loss.backward()\n",
    "        optimizer.step()\n",
    "\n",
    "def train_2(dataloader, model, optimizer):\n",
    "    for  id,feature,y in tqdm(dataloader):\n",
    "        # Compute prediction and loss\n",
    "        x1,label = model(feature,id)\n",
    "        loss1 =  -torch.corrcoef(torch.stack((x1,torch.abs(y))))[0,1]\n",
    "        loss2 = loss_fn2(label,(0.5*(y/torch.abs(y)+torch.tensor([1]).to(device))).long().to(\"cuda\"))\n",
    "        loss = loss1+0.1*loss2\n",
    "        # Backpropagation\n",
    "        optimizer.zero_grad()\n",
    "        loss.backward()\n",
    "        optimizer.step()\n",
    "\n",
    "    \n"
   ]
  },
  {
   "cell_type": "code",
   "execution_count": 14,
   "metadata": {},
   "outputs": [
    {
     "name": "stdout",
     "output_type": "stream",
     "text": [
      "epoch1/10\n"
     ]
    },
    {
     "name": "stderr",
     "output_type": "stream",
     "text": [
      "100%|██████████| 6136/6136 [00:40<00:00, 151.58it/s]\n",
      "100%|██████████| 6136/6136 [00:45<00:00, 133.71it/s]\n",
      "100%|██████████| 6136/6136 [00:39<00:00, 156.29it/s]\n",
      "100%|██████████| 6136/6136 [00:45<00:00, 133.70it/s]\n",
      "100%|██████████| 6136/6136 [00:41<00:00, 148.86it/s]\n",
      "100%|██████████| 6136/6136 [00:46<00:00, 133.23it/s]\n"
     ]
    },
    {
     "name": "stdout",
     "output_type": "stream",
     "text": [
      "epoch2/10\n"
     ]
    },
    {
     "name": "stderr",
     "output_type": "stream",
     "text": [
      "100%|██████████| 6136/6136 [00:41<00:00, 148.81it/s]\n",
      "100%|██████████| 6136/6136 [00:45<00:00, 134.07it/s]\n",
      "100%|██████████| 6136/6136 [00:42<00:00, 142.85it/s]\n",
      "100%|██████████| 6136/6136 [00:51<00:00, 119.55it/s]\n",
      "100%|██████████| 6136/6136 [00:42<00:00, 144.44it/s]\n",
      "100%|██████████| 6136/6136 [00:47<00:00, 127.84it/s]\n"
     ]
    },
    {
     "name": "stdout",
     "output_type": "stream",
     "text": [
      "epoch3/10\n"
     ]
    },
    {
     "name": "stderr",
     "output_type": "stream",
     "text": [
      "100%|██████████| 6136/6136 [00:41<00:00, 146.76it/s]\n",
      "100%|██████████| 6136/6136 [00:46<00:00, 130.72it/s]\n",
      "100%|██████████| 6136/6136 [00:42<00:00, 145.90it/s]\n",
      "100%|██████████| 6136/6136 [00:46<00:00, 131.09it/s]\n",
      "100%|██████████| 6136/6136 [00:42<00:00, 145.87it/s]\n",
      "100%|██████████| 6136/6136 [00:47<00:00, 129.98it/s]\n"
     ]
    },
    {
     "name": "stdout",
     "output_type": "stream",
     "text": [
      "epoch4/10\n"
     ]
    },
    {
     "name": "stderr",
     "output_type": "stream",
     "text": [
      "100%|██████████| 6136/6136 [00:42<00:00, 145.67it/s]\n",
      "100%|██████████| 6136/6136 [00:45<00:00, 133.81it/s]\n",
      "100%|██████████| 6136/6136 [00:41<00:00, 149.63it/s]\n",
      "100%|██████████| 6136/6136 [00:45<00:00, 134.03it/s]\n",
      "100%|██████████| 6136/6136 [00:41<00:00, 149.55it/s]\n",
      "100%|██████████| 6136/6136 [00:45<00:00, 134.03it/s]\n"
     ]
    },
    {
     "name": "stdout",
     "output_type": "stream",
     "text": [
      "epoch5/10\n"
     ]
    },
    {
     "name": "stderr",
     "output_type": "stream",
     "text": [
      "100%|██████████| 6136/6136 [00:41<00:00, 149.13it/s]\n",
      "100%|██████████| 6136/6136 [00:45<00:00, 133.46it/s]\n",
      "100%|██████████| 6136/6136 [00:40<00:00, 149.79it/s]\n",
      "100%|██████████| 6136/6136 [00:45<00:00, 133.50it/s]\n",
      "100%|██████████| 6136/6136 [00:41<00:00, 148.76it/s]\n",
      "100%|██████████| 6136/6136 [00:45<00:00, 133.58it/s]\n"
     ]
    },
    {
     "name": "stdout",
     "output_type": "stream",
     "text": [
      "epoch6/10\n"
     ]
    },
    {
     "name": "stderr",
     "output_type": "stream",
     "text": [
      "100%|██████████| 6136/6136 [00:40<00:00, 150.09it/s]\n",
      "100%|██████████| 6136/6136 [00:45<00:00, 133.77it/s]\n",
      "100%|██████████| 6136/6136 [00:41<00:00, 149.38it/s]\n",
      "100%|██████████| 6136/6136 [00:45<00:00, 134.30it/s]\n",
      "100%|██████████| 6136/6136 [00:40<00:00, 150.67it/s]\n",
      "100%|██████████| 6136/6136 [00:45<00:00, 133.48it/s]\n"
     ]
    },
    {
     "name": "stdout",
     "output_type": "stream",
     "text": [
      "epoch7/10\n"
     ]
    },
    {
     "name": "stderr",
     "output_type": "stream",
     "text": [
      "100%|██████████| 6136/6136 [00:41<00:00, 149.46it/s]\n",
      "100%|██████████| 6136/6136 [00:45<00:00, 133.80it/s]\n",
      "100%|██████████| 6136/6136 [00:40<00:00, 149.70it/s]\n",
      "100%|██████████| 6136/6136 [00:45<00:00, 133.69it/s]\n",
      "100%|██████████| 6136/6136 [00:41<00:00, 148.60it/s]\n",
      "100%|██████████| 6136/6136 [00:45<00:00, 133.77it/s]\n"
     ]
    },
    {
     "name": "stdout",
     "output_type": "stream",
     "text": [
      "epoch8/10\n"
     ]
    },
    {
     "name": "stderr",
     "output_type": "stream",
     "text": [
      "100%|██████████| 6136/6136 [00:40<00:00, 149.74it/s]\n",
      "100%|██████████| 6136/6136 [00:45<00:00, 133.56it/s]\n",
      "100%|██████████| 6136/6136 [00:40<00:00, 149.92it/s]\n",
      "100%|██████████| 6136/6136 [00:45<00:00, 133.71it/s]\n",
      "100%|██████████| 6136/6136 [00:41<00:00, 147.39it/s]\n",
      "100%|██████████| 6136/6136 [00:46<00:00, 133.02it/s]\n"
     ]
    },
    {
     "name": "stdout",
     "output_type": "stream",
     "text": [
      "epoch9/10\n"
     ]
    },
    {
     "name": "stderr",
     "output_type": "stream",
     "text": [
      "100%|██████████| 6136/6136 [00:41<00:00, 149.29it/s]\n",
      "100%|██████████| 6136/6136 [00:46<00:00, 132.39it/s]\n",
      "100%|██████████| 6136/6136 [00:41<00:00, 148.27it/s]\n",
      "100%|██████████| 6136/6136 [00:46<00:00, 133.25it/s]\n",
      "100%|██████████| 6136/6136 [00:41<00:00, 149.03it/s]\n",
      "100%|██████████| 6136/6136 [00:45<00:00, 133.40it/s]\n"
     ]
    },
    {
     "name": "stdout",
     "output_type": "stream",
     "text": [
      "epoch10/10\n"
     ]
    },
    {
     "name": "stderr",
     "output_type": "stream",
     "text": [
      "100%|██████████| 6136/6136 [00:40<00:00, 149.82it/s]\n",
      "100%|██████████| 6136/6136 [00:46<00:00, 133.03it/s]\n",
      "100%|██████████| 6136/6136 [00:41<00:00, 149.00it/s]\n",
      "100%|██████████| 6136/6136 [00:45<00:00, 133.45it/s]\n",
      "100%|██████████| 6136/6136 [00:41<00:00, 149.65it/s]\n",
      "100%|██████████| 6136/6136 [00:45<00:00, 133.76it/s]\n"
     ]
    }
   ],
   "source": [
    "for i in range(10):\n",
    "    print(\"epoch{}/{}\".format(i+1,10))\n",
    "    train_1(DataLoader1,model1_1,optimizer1_1)\n",
    "    train_2(DataLoader1,model1_2,optimizer1_2)\n",
    "    train_1(DataLoader2,model2_1,optimizer2_1)\n",
    "    train_2(DataLoader2,model2_2,optimizer2_2)\n",
    "    train_1(DataLoader3,model3_1,optimizer3_1)\n",
    "    train_2(DataLoader3,model3_2,optimizer3_2)"
   ]
  },
  {
   "cell_type": "code",
   "execution_count": 15,
   "metadata": {},
   "outputs": [],
   "source": [
    "torch.save(model1_1, 'less feature with auxiliary task/model1_1.pth')\n",
    "torch.save(model1_2, 'less feature with auxiliary task/model1_2.pth')\n",
    "torch.save(model2_1, 'less feature with auxiliary task/model2_1.pth')\n",
    "torch.save(model2_2, 'less feature with auxiliary task/model2_2.pth')\n",
    "torch.save(model3_1, 'less feature with auxiliary task/model3_1.pth')\n",
    "torch.save(model3_2, 'less feature with auxiliary task/model3_2.pth')"
   ]
  },
  {
   "cell_type": "code",
   "execution_count": 16,
   "metadata": {},
   "outputs": [],
   "source": [
    "test_id=id[1:50].squeeze().to(torch.int64).to(device)"
   ]
  },
  {
   "cell_type": "code",
   "execution_count": 17,
   "metadata": {},
   "outputs": [],
   "source": [
    "test_feature1=feature1[1:50].to(device)"
   ]
  },
  {
   "cell_type": "code",
   "execution_count": 18,
   "metadata": {},
   "outputs": [],
   "source": [
    "label,x=model1_1(test_feature1,test_id)"
   ]
  },
  {
   "cell_type": "code",
   "execution_count": 19,
   "metadata": {},
   "outputs": [
    {
     "data": {
      "text/plain": [
       "tensor([ 0.1483, -0.0883], device='cuda:0', dtype=torch.float64,\n",
       "       grad_fn=<SelectBackward0>)"
      ]
     },
     "execution_count": 19,
     "metadata": {},
     "output_type": "execute_result"
    }
   ],
   "source": [
    "x[1]"
   ]
  },
  {
   "cell_type": "code",
   "execution_count": 20,
   "metadata": {},
   "outputs": [
    {
     "data": {
      "text/plain": [
       "tensor([[ 0.0653, -0.2020],\n",
       "        [ 0.1483, -0.0883],\n",
       "        [ 0.2556,  0.1136],\n",
       "        [ 0.4594,  0.4036],\n",
       "        [ 0.3263,  0.0048],\n",
       "        [ 0.0709, -0.0631],\n",
       "        [ 0.4260,  0.0909],\n",
       "        [ 0.4202, -0.2323],\n",
       "        [ 0.2835, -0.1279],\n",
       "        [ 0.1904, -0.2591],\n",
       "        [ 0.1449, -0.0753],\n",
       "        [ 0.2340, -0.0035],\n",
       "        [ 0.3652,  0.0377],\n",
       "        [ 0.3992, -0.2087],\n",
       "        [ 0.2015, -0.1804],\n",
       "        [ 0.4457,  0.1997],\n",
       "        [ 0.1584, -0.0161],\n",
       "        [ 0.0974, -0.0197],\n",
       "        [ 0.3165, -0.0692],\n",
       "        [ 0.0305, -0.2525],\n",
       "        [ 0.1666, -0.0592],\n",
       "        [ 0.1064, -0.1851],\n",
       "        [ 0.2714, -0.1641],\n",
       "        [ 0.2939, -0.0435],\n",
       "        [ 0.1304, -0.1302],\n",
       "        [ 0.2858, -0.3914],\n",
       "        [ 0.1269, -0.1060],\n",
       "        [ 0.3687, -0.0714],\n",
       "        [ 0.1841, -0.2819],\n",
       "        [ 0.3313, -0.0110],\n",
       "        [ 0.2358, -0.0170],\n",
       "        [ 0.0933,  0.0933],\n",
       "        [ 0.2634,  0.0015],\n",
       "        [ 0.1212, -0.1151],\n",
       "        [ 0.1931, -0.1431],\n",
       "        [ 0.1326,  0.1066],\n",
       "        [ 0.1351,  0.0607],\n",
       "        [ 0.5540,  0.2969],\n",
       "        [ 0.1750, -0.0515],\n",
       "        [ 0.7636,  0.6100],\n",
       "        [ 0.3970,  0.0292],\n",
       "        [ 0.2176, -0.1357],\n",
       "        [ 0.3349, -0.1900],\n",
       "        [ 0.9375,  0.5407],\n",
       "        [ 0.3622,  0.0987],\n",
       "        [ 0.6311,  0.1610],\n",
       "        [ 0.2534, -0.2310],\n",
       "        [ 0.4698, -0.0458],\n",
       "        [ 0.2022,  0.1410]], device='cuda:0', dtype=torch.float64,\n",
       "       grad_fn=<SqueezeBackward0>)"
      ]
     },
     "execution_count": 20,
     "metadata": {},
     "output_type": "execute_result"
    }
   ],
   "source": [
    "x\n"
   ]
  },
  {
   "cell_type": "code",
   "execution_count": null,
   "metadata": {},
   "outputs": [],
   "source": []
  },
  {
   "cell_type": "code",
   "execution_count": 21,
   "metadata": {},
   "outputs": [
    {
     "name": "stdout",
     "output_type": "stream",
     "text": [
      "1\n",
      "1\n",
      "1\n",
      "1\n",
      "1\n",
      "1\n",
      "1\n",
      "1\n",
      "1\n",
      "1\n",
      "1\n",
      "1\n",
      "1\n",
      "1\n",
      "1\n",
      "1\n",
      "1\n",
      "1\n",
      "1\n",
      "1\n",
      "1\n",
      "1\n",
      "1\n",
      "1\n",
      "1\n",
      "1\n",
      "1\n",
      "1\n",
      "1\n",
      "1\n",
      "1\n",
      "1\n",
      "1\n",
      "1\n",
      "1\n",
      "1\n",
      "1\n",
      "1\n",
      "1\n",
      "1\n",
      "1\n",
      "1\n",
      "1\n",
      "1\n",
      "1\n",
      "1\n",
      "1\n",
      "1\n",
      "1\n"
     ]
    }
   ],
   "source": [
    "for a in x:\n",
    "    if a[0]>a[1]:\n",
    "        print(1)\n",
    "    else:\n",
    "        print(-1)"
   ]
  },
  {
   "cell_type": "code",
   "execution_count": 22,
   "metadata": {},
   "outputs": [],
   "source": [
    "a=torch.tensor([1,2,3])\n",
    "b=torch.tensor([2,2,3])"
   ]
  },
  {
   "cell_type": "code",
   "execution_count": 23,
   "metadata": {},
   "outputs": [
    {
     "data": {
      "text/plain": [
       "tensor([1.5000, 2.0000, 3.0000])"
      ]
     },
     "execution_count": 23,
     "metadata": {},
     "output_type": "execute_result"
    }
   ],
   "source": [
    "(a+b)/2"
   ]
  },
  {
   "cell_type": "code",
   "execution_count": 24,
   "metadata": {},
   "outputs": [
    {
     "data": {
      "text/plain": [
       "tensor([0.2500, 0.5000, 0.7500])"
      ]
     },
     "execution_count": 24,
     "metadata": {},
     "output_type": "execute_result"
    }
   ],
   "source": [
    "1/4*a"
   ]
  },
  {
   "cell_type": "code",
   "execution_count": 25,
   "metadata": {},
   "outputs": [
    {
     "data": {
      "text/plain": [
       "1"
      ]
     },
     "execution_count": 25,
     "metadata": {},
     "output_type": "execute_result"
    }
   ],
   "source": [
    "a.dim()"
   ]
  },
  {
   "cell_type": "code",
   "execution_count": 26,
   "metadata": {},
   "outputs": [
    {
     "ename": "TypeError",
     "evalue": "expected Tensor as element 0 in argument 0, but got list",
     "output_type": "error",
     "traceback": [
      "\u001b[1;31m---------------------------------------------------------------------------\u001b[0m",
      "\u001b[1;31mTypeError\u001b[0m                                 Traceback (most recent call last)",
      "\u001b[1;32m~\\AppData\\Local\\Temp\\ipykernel_5820\\3382060758.py\u001b[0m in \u001b[0;36m<module>\u001b[1;34m\u001b[0m\n\u001b[1;32m----> 1\u001b[1;33m \u001b[0mtorch\u001b[0m\u001b[1;33m.\u001b[0m\u001b[0mcat\u001b[0m\u001b[1;33m(\u001b[0m\u001b[1;33m(\u001b[0m\u001b[1;33m[\u001b[0m\u001b[1;36m1\u001b[0m\u001b[1;33m,\u001b[0m\u001b[1;36m2\u001b[0m\u001b[1;33m,\u001b[0m\u001b[1;36m3\u001b[0m\u001b[1;33m]\u001b[0m\u001b[1;33m,\u001b[0m\u001b[1;33m[\u001b[0m\u001b[1;36m1\u001b[0m\u001b[1;33m,\u001b[0m\u001b[1;36m2\u001b[0m\u001b[1;33m,\u001b[0m\u001b[1;36m3\u001b[0m\u001b[1;33m]\u001b[0m\u001b[1;33m)\u001b[0m\u001b[1;33m,\u001b[0m\u001b[0mdim\u001b[0m\u001b[1;33m=\u001b[0m\u001b[1;36m0\u001b[0m\u001b[1;33m)\u001b[0m\u001b[1;33m\u001b[0m\u001b[1;33m\u001b[0m\u001b[0m\n\u001b[0m",
      "\u001b[1;31mTypeError\u001b[0m: expected Tensor as element 0 in argument 0, but got list"
     ]
    }
   ],
   "source": [
    "torch.cat(([1,2,3],[1,2,3]),dim=0)"
   ]
  },
  {
   "cell_type": "code",
   "execution_count": null,
   "metadata": {},
   "outputs": [],
   "source": []
  },
  {
   "cell_type": "code",
   "execution_count": null,
   "metadata": {},
   "outputs": [],
   "source": []
  },
  {
   "cell_type": "code",
   "execution_count": null,
   "metadata": {},
   "outputs": [],
   "source": []
  },
  {
   "cell_type": "code",
   "execution_count": null,
   "metadata": {},
   "outputs": [],
   "source": []
  },
  {
   "cell_type": "code",
   "execution_count": null,
   "metadata": {},
   "outputs": [],
   "source": []
  },
  {
   "cell_type": "code",
   "execution_count": null,
   "metadata": {},
   "outputs": [],
   "source": []
  },
  {
   "cell_type": "code",
   "execution_count": null,
   "metadata": {},
   "outputs": [],
   "source": []
  },
  {
   "cell_type": "code",
   "execution_count": null,
   "metadata": {},
   "outputs": [],
   "source": []
  },
  {
   "cell_type": "code",
   "execution_count": null,
   "metadata": {},
   "outputs": [],
   "source": []
  },
  {
   "cell_type": "code",
   "execution_count": null,
   "metadata": {},
   "outputs": [],
   "source": []
  },
  {
   "cell_type": "code",
   "execution_count": null,
   "metadata": {},
   "outputs": [
    {
     "data": {
      "text/plain": [
       "tensor([[ 0.6311,  0.1867, -0.1014,  ...,  0.5837,  0.2014,  3.2514],\n",
       "        [-0.4045,  0.7268, -0.2553,  ...,  0.5419, -0.4918, -0.2698],\n",
       "        [-0.0792, -0.1675, -0.2702,  ...,  0.5863, -0.0924, -0.2698],\n",
       "        ...,\n",
       "        [-0.7135,  1.6104,  0.9973,  ..., -1.2391,  0.2432, -0.2413],\n",
       "        [-0.3049,  0.3086, -0.3551,  ...,  0.8754, -0.7416, -0.2412],\n",
       "        [ 0.0335,  0.9868, -0.2740,  ...,  0.7431, -0.2005, -0.2370]],\n",
       "       dtype=torch.float64)"
      ]
     },
     "execution_count": 62,
     "metadata": {},
     "output_type": "execute_result"
    }
   ],
   "source": []
  },
  {
   "cell_type": "code",
   "execution_count": null,
   "metadata": {},
   "outputs": [],
   "source": []
  },
  {
   "cell_type": "code",
   "execution_count": null,
   "metadata": {},
   "outputs": [],
   "source": []
  },
  {
   "cell_type": "code",
   "execution_count": null,
   "metadata": {},
   "outputs": [],
   "source": []
  },
  {
   "cell_type": "code",
   "execution_count": null,
   "metadata": {},
   "outputs": [],
   "source": []
  },
  {
   "cell_type": "code",
   "execution_count": null,
   "metadata": {},
   "outputs": [],
   "source": []
  },
  {
   "cell_type": "code",
   "execution_count": null,
   "metadata": {},
   "outputs": [],
   "source": []
  },
  {
   "cell_type": "code",
   "execution_count": null,
   "metadata": {},
   "outputs": [],
   "source": []
  },
  {
   "cell_type": "code",
   "execution_count": null,
   "metadata": {},
   "outputs": [],
   "source": []
  }
 ],
 "metadata": {
  "interpreter": {
   "hash": "8d54f9552fa829e297b1fedb11353f4eeb32c8a885e3418c0be5f50c074ccfc7"
  },
  "kernelspec": {
   "display_name": "Python 3.7.11 ('venv': venv)",
   "language": "python",
   "name": "python3"
  },
  "language_info": {
   "codemirror_mode": {
    "name": "ipython",
    "version": 3
   },
   "file_extension": ".py",
   "mimetype": "text/x-python",
   "name": "python",
   "nbconvert_exporter": "python",
   "pygments_lexer": "ipython3",
   "version": "3.7.11"
  },
  "orig_nbformat": 4
 },
 "nbformat": 4,
 "nbformat_minor": 2
}
