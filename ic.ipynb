{
 "cells": [
  {
   "cell_type": "code",
   "execution_count": 1,
   "metadata": {},
   "outputs": [],
   "source": [
    "import numpy as np\n",
    "import pandas as pd\n",
    "df = pd.read_csv('train.csv')\n",
    "featuretarget= df.drop(['row_id', 'time_id', \"investment_id\"], axis=1)"
   ]
  },
  {
   "cell_type": "code",
   "execution_count": 2,
   "metadata": {},
   "outputs": [],
   "source": [
    "corr_matrix=featuretarget.corr()\n",
    "a=corr_matrix[\"target\"].sort_values()\n",
    "b=abs(a)\n",
    "c=b.sort_values()"
   ]
  },
  {
   "cell_type": "code",
   "execution_count": 4,
   "metadata": {},
   "outputs": [
    {
     "data": {
      "text/plain": [
       "f_74      0.000196\n",
       "f_124     0.000242\n",
       "f_84      0.000317\n",
       "f_30      0.000563\n",
       "f_63      0.000587\n",
       "            ...   \n",
       "f_265     0.047300\n",
       "f_119     0.049404\n",
       "f_250     0.055838\n",
       "f_231     0.062049\n",
       "target    1.000000\n",
       "Name: target, Length: 301, dtype: float64"
      ]
     },
     "execution_count": 4,
     "metadata": {},
     "output_type": "execute_result"
    }
   ],
   "source": [
    "c"
   ]
  },
  {
   "cell_type": "code",
   "execution_count": 10,
   "metadata": {},
   "outputs": [
    {
     "data": {
      "text/plain": [
       "f_177    0.020266\n",
       "f_45     0.020346\n",
       "f_38     0.020649\n",
       "f_209    0.020753\n",
       "f_9      0.020845\n",
       "           ...   \n",
       "f_280    0.046870\n",
       "f_265    0.047300\n",
       "f_119    0.049404\n",
       "f_250    0.055838\n",
       "f_231    0.062049\n",
       "Name: target, Length: 150, dtype: float64"
      ]
     },
     "execution_count": 10,
     "metadata": {},
     "output_type": "execute_result"
    }
   ],
   "source": [
    "c[150\n",
    ":300]"
   ]
  },
  {
   "cell_type": "code",
   "execution_count": null,
   "metadata": {},
   "outputs": [],
   "source": []
  },
  {
   "cell_type": "code",
   "execution_count": null,
   "metadata": {},
   "outputs": [],
   "source": []
  },
  {
   "cell_type": "code",
   "execution_count": null,
   "metadata": {},
   "outputs": [],
   "source": []
  },
  {
   "cell_type": "code",
   "execution_count": null,
   "metadata": {},
   "outputs": [],
   "source": []
  },
  {
   "cell_type": "code",
   "execution_count": null,
   "metadata": {},
   "outputs": [],
   "source": []
  },
  {
   "cell_type": "code",
   "execution_count": null,
   "metadata": {},
   "outputs": [],
   "source": []
  },
  {
   "cell_type": "code",
   "execution_count": 3,
   "metadata": {},
   "outputs": [],
   "source": [
    "import matplotlib \n"
   ]
  }
 ],
 "metadata": {
  "interpreter": {
   "hash": "8d54f9552fa829e297b1fedb11353f4eeb32c8a885e3418c0be5f50c074ccfc7"
  },
  "kernelspec": {
   "display_name": "Python 3.7.11 ('venv': venv)",
   "language": "python",
   "name": "python3"
  },
  "language_info": {
   "codemirror_mode": {
    "name": "ipython",
    "version": 3
   },
   "file_extension": ".py",
   "mimetype": "text/x-python",
   "name": "python",
   "nbconvert_exporter": "python",
   "pygments_lexer": "ipython3",
   "version": "3.7.11"
  },
  "orig_nbformat": 4
 },
 "nbformat": 4,
 "nbformat_minor": 2
}
